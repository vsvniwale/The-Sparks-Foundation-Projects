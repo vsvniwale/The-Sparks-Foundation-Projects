{
  "nbformat": 4,
  "nbformat_minor": 0,
  "metadata": {
    "colab": {
      "name": "Task 1 Prediction Using Supervised ML.ipynb",
      "provenance": [],
      "collapsed_sections": []
    },
    "kernelspec": {
      "name": "python3",
      "display_name": "Python 3"
    }
  },
  "cells": [
    {
      "cell_type": "markdown",
      "metadata": {
        "id": "Ky0IPRr_Cqkb"
      },
      "source": [
        "# **Task 1 Prediction Using Supervised ML by Vaibhav Vijay Niwale**"
      ]
    },
    {
      "cell_type": "markdown",
      "metadata": {
        "id": "yMJMjqyvDBkk"
      },
      "source": [
        "The Sparks Foundation Task 1:  To Predict the percentage of a student based on the number of hours studied."
      ]
    },
    {
      "cell_type": "markdown",
      "metadata": {
        "id": "sjyH5xEDEQZ7"
      },
      "source": [
        "Dataset avalable at http://bit.ly/w-data"
      ]
    },
    {
      "cell_type": "markdown",
      "metadata": {
        "id": "TykzQHteEpce"
      },
      "source": [
        "### **Importing libraries and reading csv file.**"
      ]
    },
    {
      "cell_type": "code",
      "metadata": {
        "id": "a6esYTAQE8iq"
      },
      "source": [
        "import pandas as pd\r\n",
        "import matplotlib.pyplot as plt\r\n",
        "import numpy as np\r\n",
        "from sklearn.model_selection import train_test_split \r\n",
        "from sklearn.linear_model import LinearRegression\r\n",
        "from sklearn import metrics  "
      ],
      "execution_count": 1,
      "outputs": []
    },
    {
      "cell_type": "code",
      "metadata": {
        "colab": {
          "base_uri": "https://localhost:8080/",
          "height": 195
        },
        "id": "oMprgPMwFK12",
        "outputId": "254a8588-f9f3-421a-c0b0-7cbec71caa55"
      },
      "source": [
        "url = \"http://bit.ly/w-data\"\r\n",
        "student_data = pd.read_csv(url)\r\n",
        "student_data.head()"
      ],
      "execution_count": 2,
      "outputs": [
        {
          "output_type": "execute_result",
          "data": {
            "text/html": [
              "<div>\n",
              "<style scoped>\n",
              "    .dataframe tbody tr th:only-of-type {\n",
              "        vertical-align: middle;\n",
              "    }\n",
              "\n",
              "    .dataframe tbody tr th {\n",
              "        vertical-align: top;\n",
              "    }\n",
              "\n",
              "    .dataframe thead th {\n",
              "        text-align: right;\n",
              "    }\n",
              "</style>\n",
              "<table border=\"1\" class=\"dataframe\">\n",
              "  <thead>\n",
              "    <tr style=\"text-align: right;\">\n",
              "      <th></th>\n",
              "      <th>Hours</th>\n",
              "      <th>Scores</th>\n",
              "    </tr>\n",
              "  </thead>\n",
              "  <tbody>\n",
              "    <tr>\n",
              "      <th>0</th>\n",
              "      <td>2.5</td>\n",
              "      <td>21</td>\n",
              "    </tr>\n",
              "    <tr>\n",
              "      <th>1</th>\n",
              "      <td>5.1</td>\n",
              "      <td>47</td>\n",
              "    </tr>\n",
              "    <tr>\n",
              "      <th>2</th>\n",
              "      <td>3.2</td>\n",
              "      <td>27</td>\n",
              "    </tr>\n",
              "    <tr>\n",
              "      <th>3</th>\n",
              "      <td>8.5</td>\n",
              "      <td>75</td>\n",
              "    </tr>\n",
              "    <tr>\n",
              "      <th>4</th>\n",
              "      <td>3.5</td>\n",
              "      <td>30</td>\n",
              "    </tr>\n",
              "  </tbody>\n",
              "</table>\n",
              "</div>"
            ],
            "text/plain": [
              "   Hours  Scores\n",
              "0    2.5      21\n",
              "1    5.1      47\n",
              "2    3.2      27\n",
              "3    8.5      75\n",
              "4    3.5      30"
            ]
          },
          "metadata": {
            "tags": []
          },
          "execution_count": 2
        }
      ]
    },
    {
      "cell_type": "markdown",
      "metadata": {
        "id": "F-q4iUJvF9I1"
      },
      "source": [
        "### **Data Visualization**"
      ]
    },
    {
      "cell_type": "code",
      "metadata": {
        "colab": {
          "base_uri": "https://localhost:8080/",
          "height": 295
        },
        "id": "xcto2vGEGSkf",
        "outputId": "29d8010d-f9ec-467e-f12b-ebb68baea727"
      },
      "source": [
        "plt.scatter(x = student_data.Hours, y=student_data.Scores)  \r\n",
        "plt.title('Hours vs Percentage')  \r\n",
        "plt.xlabel('Hours Studied')  \r\n",
        "plt.ylabel('Percentage ')  \r\n",
        "plt.show()"
      ],
      "execution_count": 3,
      "outputs": [
        {
          "output_type": "display_data",
          "data": {
            "image/png": "[encoded data removed]",
            "text/plain": [
              "<Figure size 432x288 with 1 Axes>"
            ]
          },
          "metadata": {
            "tags": [],
            "needs_background": "light"
          }
        }
      ]
    },
    {
      "cell_type": "markdown",
      "metadata": {
        "id": "92CBKkrxIDJf"
      },
      "source": [
        " As you can see Linear Regression will be best fit for prediction"
      ]
    },
    {
      "cell_type": "markdown",
      "metadata": {
        "id": "zGsFo7YzI9sq"
      },
      "source": [
        "### **Data Preprocessing and Model Training**"
      ]
    },
    {
      "cell_type": "code",
      "metadata": {
        "id": "GDg3PE53JTq9"
      },
      "source": [
        "x = student_data.iloc[:, 0].values  \r\n",
        "y = student_data.iloc[:, 1].values"
      ],
      "execution_count": 4,
      "outputs": []
    },
    {
      "cell_type": "code",
      "metadata": {
        "id": "S8PYaHxBJZAT"
      },
      "source": [
        "x_train, x_test, y_train, y_test = train_test_split(x, y, test_size=0.2, random_state=0)"
      ],
      "execution_count": 5,
      "outputs": []
    },
    {
      "cell_type": "code",
      "metadata": {
        "colab": {
          "base_uri": "https://localhost:8080/"
        },
        "id": "BAflW698LHS-",
        "outputId": "7d432dc9-7ee4-4ec2-d809-f18c5680a57c"
      },
      "source": [
        "lr = LinearRegression()  \r\n",
        "lr.fit(x_train.reshape(-1, 1), y_train) "
      ],
      "execution_count": 6,
      "outputs": [
        {
          "output_type": "execute_result",
          "data": {
            "text/plain": [
              "LinearRegression(copy_X=True, fit_intercept=True, n_jobs=None, normalize=False)"
            ]
          },
          "metadata": {
            "tags": []
          },
          "execution_count": 6
        }
      ]
    },
    {
      "cell_type": "markdown",
      "metadata": {
        "id": "8WI2YAy5Z-O3"
      },
      "source": [
        "### **Line of regression**"
      ]
    },
    {
      "cell_type": "code",
      "metadata": {
        "colab": {
          "base_uri": "https://localhost:8080/",
          "height": 295
        },
        "id": "hh6MUkEDS5Zg",
        "outputId": "625c939c-e121-4563-ca0e-b0fcf814a429"
      },
      "source": [
        "plt.scatter(x, y)\r\n",
        "plt.plot(x, lr.coef_*x+lr.intercept_,color='Green');\r\n",
        "plt.title('Hours vs Percentage')  \r\n",
        "plt.xlabel('Hours Studied')  \r\n",
        "plt.ylabel('Percentage ')  \r\n",
        "plt.show()"
      ],
      "execution_count": 7,
      "outputs": [
        {
          "output_type": "display_data",
          "data": {
            "image/png": "[encoded data removed]",
            "text/plain": [
              "<Figure size 432x288 with 1 Axes>"
            ]
          },
          "metadata": {
            "tags": [],
            "needs_background": "light"
          }
        }
      ]
    },
    {
      "cell_type": "markdown",
      "metadata": {
        "id": "fc-_61MaaPp6"
      },
      "source": [
        "### **Comparing Results**"
      ]
    },
    {
      "cell_type": "code",
      "metadata": {
        "id": "jggfdosMWH9f"
      },
      "source": [
        "y_pred = lr.predict(x_test.reshape(-1,1))"
      ],
      "execution_count": 8,
      "outputs": []
    },
    {
      "cell_type": "code",
      "metadata": {
        "colab": {
          "base_uri": "https://localhost:8080/",
          "height": 195
        },
        "id": "PGwk3a9bWP4r",
        "outputId": "d998265d-4238-4627-9084-76d2e8a8ccc9"
      },
      "source": [
        "df = pd.DataFrame({'Test Values':x_test,'Actual Result': y_test, 'Predicted Result': y_pred}) \r\n",
        "df.head()"
      ],
      "execution_count": 9,
      "outputs": [
        {
          "output_type": "execute_result",
          "data": {
            "text/html": [
              "<div>\n",
              "<style scoped>\n",
              "    .dataframe tbody tr th:only-of-type {\n",
              "        vertical-align: middle;\n",
              "    }\n",
              "\n",
              "    .dataframe tbody tr th {\n",
              "        vertical-align: top;\n",
              "    }\n",
              "\n",
              "    .dataframe thead th {\n",
              "        text-align: right;\n",
              "    }\n",
              "</style>\n",
              "<table border=\"1\" class=\"dataframe\">\n",
              "  <thead>\n",
              "    <tr style=\"text-align: right;\">\n",
              "      <th></th>\n",
              "      <th>Test Values</th>\n",
              "      <th>Actual Result</th>\n",
              "      <th>Predicted Result</th>\n",
              "    </tr>\n",
              "  </thead>\n",
              "  <tbody>\n",
              "    <tr>\n",
              "      <th>0</th>\n",
              "      <td>1.5</td>\n",
              "      <td>20</td>\n",
              "      <td>16.884145</td>\n",
              "    </tr>\n",
              "    <tr>\n",
              "      <th>1</th>\n",
              "      <td>3.2</td>\n",
              "      <td>27</td>\n",
              "      <td>33.732261</td>\n",
              "    </tr>\n",
              "    <tr>\n",
              "      <th>2</th>\n",
              "      <td>7.4</td>\n",
              "      <td>69</td>\n",
              "      <td>75.357018</td>\n",
              "    </tr>\n",
              "    <tr>\n",
              "      <th>3</th>\n",
              "      <td>2.5</td>\n",
              "      <td>30</td>\n",
              "      <td>26.794801</td>\n",
              "    </tr>\n",
              "    <tr>\n",
              "      <th>4</th>\n",
              "      <td>5.9</td>\n",
              "      <td>62</td>\n",
              "      <td>60.491033</td>\n",
              "    </tr>\n",
              "  </tbody>\n",
              "</table>\n",
              "</div>"
            ],
            "text/plain": [
              "   Test Values  Actual Result  Predicted Result\n",
              "0          1.5             20         16.884145\n",
              "1          3.2             27         33.732261\n",
              "2          7.4             69         75.357018\n",
              "3          2.5             30         26.794801\n",
              "4          5.9             62         60.491033"
            ]
          },
          "metadata": {
            "tags": []
          },
          "execution_count": 9
        }
      ]
    },
    {
      "cell_type": "code",
      "metadata": {
        "colab": {
          "base_uri": "https://localhost:8080/"
        },
        "id": "_eVS1nOvW1wy",
        "outputId": "38cf8b04-f0ac-4390-93f3-683950225f7a"
      },
      "source": [
        "print(\"Training Score:\",lr.score(x_train.reshape(-1,1),y_train))\r\n",
        "print(\"Test Score:\",lr.score(x_test.reshape(-1,1),y_test))"
      ],
      "execution_count": 10,
      "outputs": [
        {
          "output_type": "stream",
          "text": [
            "Training Score: 0.9515510725211553\n",
            "Test Score: 0.9454906892105354\n"
          ],
          "name": "stdout"
        }
      ]
    },
    {
      "cell_type": "markdown",
      "metadata": {
        "id": "pMucHW0DdnkC"
      },
      "source": [
        "### **Model Assessment**"
      ]
    },
    {
      "cell_type": "code",
      "metadata": {
        "colab": {
          "base_uri": "https://localhost:8080/"
        },
        "id": "YAkFO3A6XnfO",
        "outputId": "fefa7636-6130-4e80-a9c2-4d8bbf09347a"
      },
      "source": [
        "print('Mean Absolute Error (MAE): {0:.2f}'.format(metrics.mean_absolute_error(y_test, y_pred))) \r\n",
        "print('Mean Squared Error (MSE): {0:.2f}'.format(metrics.mean_squared_error(y_test, y_pred)))\r\n",
        "print('Root Mean Squared Error (RMSE): {0:.2f}'.format(np.sqrt(metrics.mean_squared_error(y_test, y_pred))))\r\n",
        "print('R2-score: {0:.2f}'.format(metrics.r2_score(y_test, y_pred)))"
      ],
      "execution_count": 11,
      "outputs": [
        {
          "output_type": "stream",
          "text": [
            "Mean Absolute Error (MAE): 4.18\n",
            "Mean Squared Error (MSE): 21.60\n",
            "Root Mean Squared Error (RMSE): 4.65\n",
            "R2-score: 0.95\n"
          ],
          "name": "stdout"
        }
      ]
    },
    {
      "cell_type": "markdown",
      "metadata": {
        "id": "MjPwo5BLkA7Z"
      },
      "source": [
        "### **Prediction of percentage of a student based on the number of hours studied**"
      ]
    },
    {
      "cell_type": "code",
      "metadata": {
        "colab": {
          "base_uri": "https://localhost:8080/"
        },
        "id": "_se8xj9hf1AK",
        "outputId": "f54b84ac-e7b2-44c4-b762-6a93b001f846"
      },
      "source": [
        "a = float(input(\"Enter the number of hours studied: \"))\r\n",
        "y=lr.predict([[a]])\r\n",
        "print('A student who studied {} hours will get {}%'.format(a,y[0]))"
      ],
      "execution_count": 12,
      "outputs": [
        {
          "output_type": "stream",
          "text": [
            "Enter the number of hours studied: 9.25\n",
            "A student who studied 9.25 hours will get 93.69173248737539%\n"
          ],
          "name": "stdout"
        }
      ]
    },
    {
      "cell_type": "code",
      "metadata": {
        "id": "1hgQzTo8lNob"
      },
      "source": [
        ""
      ],
      "execution_count": null,
      "outputs": []
    }
  ]
}